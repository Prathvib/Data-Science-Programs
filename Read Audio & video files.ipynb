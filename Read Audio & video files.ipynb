{
 "cells": [
  {
   "cell_type": "code",
   "execution_count": 3,
   "id": "0e938563",
   "metadata": {},
   "outputs": [],
   "source": [
    "import wave\n",
    "wav_obj=wave.open('PinkPanther30.wav','rb')\n"
   ]
  },
  {
   "cell_type": "code",
   "execution_count": 4,
   "id": "ae1498a8",
   "metadata": {},
   "outputs": [
    {
     "data": {
      "text/plain": [
       "22050"
      ]
     },
     "execution_count": 4,
     "metadata": {},
     "output_type": "execute_result"
    }
   ],
   "source": [
    "sample_frq=wav_obj.getframerate()\n",
    "sample_frq"
   ]
  },
  {
   "cell_type": "code",
   "execution_count": 5,
   "id": "6b1c7de4",
   "metadata": {},
   "outputs": [
    {
     "data": {
      "text/plain": [
       "661500"
      ]
     },
     "execution_count": 5,
     "metadata": {},
     "output_type": "execute_result"
    }
   ],
   "source": [
    "n_sample=wav_obj.getnframes()\n",
    "n_sample"
   ]
  },
  {
   "cell_type": "code",
   "execution_count": 6,
   "id": "857d6d34",
   "metadata": {},
   "outputs": [
    {
     "data": {
      "text/plain": [
       "30.0"
      ]
     },
     "execution_count": 6,
     "metadata": {},
     "output_type": "execute_result"
    }
   ],
   "source": [
    "t_audio=n_sample/sample_frq \n",
    "t_audio\n"
   ]
  },
  {
   "cell_type": "code",
   "execution_count": 7,
   "id": "0caa7085",
   "metadata": {},
   "outputs": [
    {
     "data": {
      "text/plain": [
       "1"
      ]
     },
     "execution_count": 7,
     "metadata": {},
     "output_type": "execute_result"
    }
   ],
   "source": [
    "n_channels=wav_obj.getnchannels()\n",
    "n_channels\n"
   ]
  },
  {
   "cell_type": "code",
   "execution_count": 8,
   "id": "eee2fe89",
   "metadata": {},
   "outputs": [],
   "source": [
    "signal_wave=wav_obj.readframes(n_sample)\n"
   ]
  },
  {
   "cell_type": "code",
   "execution_count": 9,
   "id": "c54da8f9",
   "metadata": {},
   "outputs": [],
   "source": [
    "import numpy as np\n",
    "signal_array=np.frombuffer(signal_wave,dtype=np.int16)"
   ]
  },
  {
   "cell_type": "code",
   "execution_count": 10,
   "id": "5927793e",
   "metadata": {},
   "outputs": [],
   "source": [
    "l_channel=signal_array[0::2]\n"
   ]
  },
  {
   "cell_type": "code",
   "execution_count": 11,
   "id": "77ac63f0",
   "metadata": {},
   "outputs": [],
   "source": [
    "times=np.linspace(0,n_sample/sample_frq,num=n_sample)"
   ]
  },
  {
   "cell_type": "code",
   "execution_count": 16,
   "id": "98a31e6d",
   "metadata": {},
   "outputs": [
    {
     "name": "stdout",
     "output_type": "stream",
     "text": [
      "661500\n",
      "330750\n"
     ]
    },
    {
     "data": {
      "image/png": "[encoded data removed]",
      "text/plain": [
       "<Figure size 1080x360 with 1 Axes>"
      ]
     },
     "metadata": {
      "needs_background": "light"
     },
     "output_type": "display_data"
    }
   ],
   "source": [
    "print(len(times))\n",
    "print(len(l_channel))\n",
    "if(len(times)!=len(l_channel)):\n",
    "    min_length=min(len(times),len(l_channel))\n",
    "    times=times[0:min_length]\n",
    "    l_channel=l_channel[:min_length]\n",
    "import matplotlib.pyplot as plt\n",
    "plt.figure(figsize=(15,5))\n",
    "plt.plot(times,l_channel)\n",
    "plt.title('Left Channel')\n",
    "plt.ylabel('Signal Value')\n",
    "plt.xlabel('Time (s)')\n",
    "plt.xlim(0,t_audio)\n",
    "plt.show()\n"
   ]
  },
  {
   "cell_type": "code",
   "execution_count": 1,
   "id": "6dead621",
   "metadata": {},
   "outputs": [
    {
     "name": "stdout",
     "output_type": "stream",
     "text": [
      "Frame per second:(50.0,)\n",
      "Total Frames:414.0\n",
      " Height:2160.0\n",
      "Width:3840.0\n"
     ]
    }
   ],
   "source": [
    "import cv2\n",
    "# read vedio files\n",
    "cap=cv2.VideoCapture('pexels-edward-jenner-4114797-3840x2160-50fps.mp4')\n",
    "\n",
    "video_fps=cap.get(cv2.CAP_PROP_FPS),\n",
    "total_frames=cap.get(cv2.CAP_PROP_FRAME_COUNT)\n",
    "height=cap.get(cv2.CAP_PROP_FRAME_HEIGHT)\n",
    "width=cap.get(cv2.CAP_PROP_FRAME_WIDTH)\n",
    "print(f\"Frame per second:{video_fps}\\nTotal Frames:{total_frames}\\n Height:{height}\\nWidth:{width}\")\n",
    "\n",
    "res,frame=cap.read()\n",
    "cv2.imshow('frame',frame)\n",
    "cv2.waitKey(0)\n",
    "cv2.destroyAllWindows()\n",
    "\n",
    "while True:\n",
    "    ret,frame=cap.read()\n",
    "    if not ret:break\n",
    "    cv2.imshow('frame',frame)\n",
    "    if cv2.waitKey(1) & 0xFF == ord('q'):\n",
    "        break\n",
    "cap.release()\n",
    "cv2.destroyAllWindows()"
   ]
  },
  {
   "cell_type": "code",
   "execution_count": null,
   "id": "795f3c49",
   "metadata": {},
   "outputs": [],
   "source": []
  }
 ],
 "metadata": {
  "kernelspec": {
   "display_name": "Python 3 (ipykernel)",
   "language": "python",
   "name": "python3"
  },
  "language_info": {
   "codemirror_mode": {
    "name": "ipython",
    "version": 3
   },
   "file_extension": ".py",
   "mimetype": "text/x-python",
   "name": "python",
   "nbconvert_exporter": "python",
   "pygments_lexer": "ipython3",
   "version": "3.9.7"
  }
 },
 "nbformat": 4,
 "nbformat_minor": 5
}
