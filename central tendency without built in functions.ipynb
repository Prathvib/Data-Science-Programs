{
 "cells": [
  {
   "cell_type": "code",
   "execution_count": 2,
   "id": "eb6ab711",
   "metadata": {},
   "outputs": [
    {
     "name": "stdout",
     "output_type": "stream",
     "text": [
      "Mean / Average is: 3.5\n"
     ]
    }
   ],
   "source": [
    "# Python program to print\n",
    "# mean of elements\n",
    "\n",
    "# list of elements to calculate mean\n",
    "n_num = [1, 2, 3, 4, 5 ,6]\n",
    "n = len(n_num)\n",
    "\n",
    "get_sum = sum(n_num)\n",
    "mean = get_sum / n\n",
    "\n",
    "print(\"Mean / Average is: \" + str(mean))\n"
   ]
  },
  {
   "cell_type": "code",
   "execution_count": 5,
   "id": "9f18bc23",
   "metadata": {},
   "outputs": [
    {
     "name": "stdout",
     "output_type": "stream",
     "text": [
      "Median is: 56.5\n"
     ]
    }
   ],
   "source": [
    "# Python program to print\n",
    "# median of elements\n",
    "\n",
    "# list of elements to calculate median\n",
    "n_num = [ 23,56,78,23,57,90]\n",
    "n = len(n_num)\n",
    "n_num.sort()\n",
    "\n",
    "if n % 2 == 0:\n",
    "\tmedian1 = n_num[n//2]\n",
    "\tmedian2 = n_num[n//2 - 1]\n",
    "\tmedian = (median1 + median2)/2\n",
    "else:\n",
    "\tmedian = n_num[n//2]\n",
    "print(\"Median is: \" + str(median))\n"
   ]
  },
  {
   "cell_type": "code",
   "execution_count": 7,
   "id": "221c39b9",
   "metadata": {},
   "outputs": [
    {
     "name": "stdout",
     "output_type": "stream",
     "text": [
      "Mode is / are: 2, 5\n"
     ]
    }
   ],
   "source": [
    "# Python program to print\n",
    "# mode of elements\n",
    "from collections import Counter\n",
    "\n",
    "# list of elements to calculate mode\n",
    "n_num = [1, 2, 2, 3, 4, 5, 5]\n",
    "n = len(n_num)\n",
    "\n",
    "data = Counter(n_num)\n",
    "get_mode = dict(data)\n",
    "mode = [k for k, v in get_mode.items() if v == max(list(data.values()))]\n",
    "\n",
    "if len(mode) == n:\n",
    "\tget_mode = \"No mode found\"\n",
    "else:\n",
    "\tget_mode = \"Mode is / are: \" + ', '.join(map(str, mode))\n",
    "\t\n",
    "print(get_mode)\n"
   ]
  },
  {
   "cell_type": "code",
   "execution_count": 1,
   "id": "8fdacae1",
   "metadata": {},
   "outputs": [
    {
     "name": "stdout",
     "output_type": "stream",
     "text": [
      "Range: 67\n"
     ]
    }
   ],
   "source": [
    "#Range\n",
    "numbers = [23, 56, 78, 23, 57, 90]\n",
    "minimum = min(numbers)\n",
    "maximum = max(numbers)\n",
    "data_range = maximum - minimum\n",
    "print(\"Range:\", data_range)"
   ]
  },
  {
   "cell_type": "code",
   "execution_count": 7,
   "id": "83d8f08f",
   "metadata": {},
   "outputs": [
    {
     "name": "stdout",
     "output_type": "stream",
     "text": [
      "Enter a list of numbers (comma-separated): 23, 56, 78, 23, 57, 90\n",
      "Range: 67\n"
     ]
    }
   ],
   "source": [
    "# Take user input for a list of numbers\n",
    "numbers = input(\"Enter a list of numbers (comma-separated): \")\n",
    "numbers = [int(num) for num in numbers.split(\",\")]\n",
    "\n",
    "# Calculate the range\n",
    "minimum = min(numbers)\n",
    "maximum = max(numbers)\n",
    "data_range = maximum - minimum\n",
    "\n",
    "# Print the result\n",
    "print(\"Range:\", data_range)\n",
    "\n"
   ]
  },
  {
   "cell_type": "code",
   "execution_count": 5,
   "id": "5cfa4b82",
   "metadata": {},
   "outputs": [
    {
     "name": "stdout",
     "output_type": "stream",
     "text": [
      "Variance: 634.25\n"
     ]
    }
   ],
   "source": [
    "#variance\n",
    "mean = sum(numbers) / len(numbers)\n",
    "differences = [(x - mean) ** 2 for x in numbers]\n",
    "variance = sum(differences) / len(numbers)\n",
    "print(\"Variance:\", variance)"
   ]
  },
  {
   "cell_type": "code",
   "execution_count": 6,
   "id": "096c693c",
   "metadata": {},
   "outputs": [
    {
     "name": "stdout",
     "output_type": "stream",
     "text": [
      "Enter a list of numbers (comma-separated): 23,56,78,23,57,90\n",
      "Variance: 634.25\n"
     ]
    }
   ],
   "source": [
    "# Take user input for a list of numbers\n",
    "numbers = input(\"Enter a list of numbers (comma-separated): \")\n",
    "numbers = [int(num) for num in numbers.split(\",\")]\n",
    "\n",
    "# Calculate the mean\n",
    "mean = sum(numbers) / len(numbers)\n",
    "\n",
    "# Calculate the differences and squared differences\n",
    "differences = [(x - mean) ** 2 for x in numbers]\n",
    "\n",
    "# Calculate the variance\n",
    "variance = sum(differences) / len(numbers)\n",
    "\n",
    "# Print the result\n",
    "print(\"Variance:\", variance)\n"
   ]
  },
  {
   "cell_type": "code",
   "execution_count": 3,
   "id": "5cb92748",
   "metadata": {},
   "outputs": [
    {
     "name": "stdout",
     "output_type": "stream",
     "text": [
      "Standard Deviation: 25.184320518926057\n"
     ]
    }
   ],
   "source": [
    "#standard Deviation\n",
    "import math\n",
    "\n",
    "standard_deviation = math.sqrt(variance)\n",
    "print(\"Standard Deviation:\", standard_deviation)\n"
   ]
  },
  {
   "cell_type": "code",
   "execution_count": 9,
   "id": "3ac6f248",
   "metadata": {},
   "outputs": [
    {
     "name": "stdout",
     "output_type": "stream",
     "text": [
      "Enter a list of numbers (comma-separated): 23,56,78,23,57,90\n",
      "Standard Deviation: 25.184320518926057\n"
     ]
    }
   ],
   "source": [
    "import math\n",
    "\n",
    "# Take user input for a list of numbers\n",
    "numbers = input(\"Enter a list of numbers (comma-separated): \")\n",
    "numbers = [int(num) for num in numbers.split(\",\")]\n",
    "\n",
    "# Calculate the standard deviation\n",
    "standard_deviation = math.sqrt(variance)\n",
    "\n",
    "# Print the result\n",
    "print(\"Standard Deviation:\", standard_deviation)\n"
   ]
  },
  {
   "cell_type": "code",
   "execution_count": null,
   "id": "41c5c3b5",
   "metadata": {},
   "outputs": [],
   "source": []
  }
 ],
 "metadata": {
  "kernelspec": {
   "display_name": "Python 3 (ipykernel)",
   "language": "python",
   "name": "python3"
  },
  "language_info": {
   "codemirror_mode": {
    "name": "ipython",
    "version": 3
   },
   "file_extension": ".py",
   "mimetype": "text/x-python",
   "name": "python",
   "nbconvert_exporter": "python",
   "pygments_lexer": "ipython3",
   "version": "3.9.7"
  }
 },
 "nbformat": 4,
 "nbformat_minor": 5
}
